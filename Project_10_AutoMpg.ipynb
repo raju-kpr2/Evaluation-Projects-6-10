{
 "cells": [
  {
   "cell_type": "markdown",
   "metadata": {},
   "source": [
    "This dataset is a slightly modified version of the dataset provided in the StatLib library. In line with the use by Ross Quinlan (1993) in predicting the attribute \"mpg\", 8 of the original instances were removed because they had unknown values for the \"mpg\" attribute. The original dataset is available in the file \"auto-mpg.data-original\".\n",
    "\n",
    "\"The data concerns city-cycle fuel consumption in miles per gallon, to be predicted in terms of 3 multivalued discrete and 5 continuous attributes.\" (Quinlan, 1993)\n",
    "\n",
    "\n",
    "Attribute Information:\n",
    "\n",
    "1. mpg: continuous\n",
    "2. cylinders: multi-valued discrete\n",
    "3. displacement: continuous\n",
    "4. horsepower: continuous\n",
    "5. weight: continuous\n",
    "6. acceleration: continuous\n",
    "7. model year: multi-valued discrete\n",
    "8. origin: multi-valued discrete\n",
    "9. car name: string (unique for each instance)"
   ]
  },
  {
   "cell_type": "code",
   "execution_count": 1,
   "metadata": {},
   "outputs": [],
   "source": [
    "#import the libraries\n",
    "import numpy as np\n",
    "import pandas as pd\n",
    "import seaborn as sns\n",
    "import matplotlib.pyplot as plt\n",
    "from tabulate import tabulate\n",
    "from sklearn import metrics\n",
    "from sklearn.decomposition import PCA\n",
    "from sklearn.linear_model import LinearRegression\n",
    "from scipy.stats import skew\n",
    "import warnings\n",
    "warnings.filterwarnings('ignore')\n",
    "%matplotlib inline\n"
   ]
  },
  {
   "cell_type": "code",
   "execution_count": 2,
   "metadata": {},
   "outputs": [
    {
     "data": {
      "text/html": [
       "<div>\n",
       "<style scoped>\n",
       "    .dataframe tbody tr th:only-of-type {\n",
       "        vertical-align: middle;\n",
       "    }\n",
       "\n",
       "    .dataframe tbody tr th {\n",
       "        vertical-align: top;\n",
       "    }\n",
       "\n",
       "    .dataframe thead th {\n",
       "        text-align: right;\n",
       "    }\n",
       "</style>\n",
       "<table border=\"1\" class=\"dataframe\">\n",
       "  <thead>\n",
       "    <tr style=\"text-align: right;\">\n",
       "      <th></th>\n",
       "      <th>mpg</th>\n",
       "      <th>cylinders</th>\n",
       "      <th>displacement</th>\n",
       "      <th>horsepower</th>\n",
       "      <th>weight</th>\n",
       "      <th>acceleration</th>\n",
       "      <th>model year</th>\n",
       "      <th>origin</th>\n",
       "      <th>car name</th>\n",
       "    </tr>\n",
       "  </thead>\n",
       "  <tbody>\n",
       "    <tr>\n",
       "      <th>0</th>\n",
       "      <td>15.0</td>\n",
       "      <td>8</td>\n",
       "      <td>350.0</td>\n",
       "      <td>165.0</td>\n",
       "      <td>3693.0</td>\n",
       "      <td>11.5</td>\n",
       "      <td>70</td>\n",
       "      <td>1</td>\n",
       "      <td>buick skylark 320</td>\n",
       "    </tr>\n",
       "    <tr>\n",
       "      <th>1</th>\n",
       "      <td>18.0</td>\n",
       "      <td>8</td>\n",
       "      <td>318.0</td>\n",
       "      <td>150.0</td>\n",
       "      <td>3436.0</td>\n",
       "      <td>11.0</td>\n",
       "      <td>70</td>\n",
       "      <td>1</td>\n",
       "      <td>plymouth satellite</td>\n",
       "    </tr>\n",
       "    <tr>\n",
       "      <th>2</th>\n",
       "      <td>16.0</td>\n",
       "      <td>8</td>\n",
       "      <td>304.0</td>\n",
       "      <td>150.0</td>\n",
       "      <td>3433.0</td>\n",
       "      <td>12.0</td>\n",
       "      <td>70</td>\n",
       "      <td>1</td>\n",
       "      <td>amc rebel sst</td>\n",
       "    </tr>\n",
       "    <tr>\n",
       "      <th>3</th>\n",
       "      <td>17.0</td>\n",
       "      <td>8</td>\n",
       "      <td>302.0</td>\n",
       "      <td>140.0</td>\n",
       "      <td>3449.0</td>\n",
       "      <td>10.5</td>\n",
       "      <td>70</td>\n",
       "      <td>1</td>\n",
       "      <td>ford torino</td>\n",
       "    </tr>\n",
       "    <tr>\n",
       "      <th>4</th>\n",
       "      <td>15.0</td>\n",
       "      <td>8</td>\n",
       "      <td>429.0</td>\n",
       "      <td>198.0</td>\n",
       "      <td>4341.0</td>\n",
       "      <td>10.0</td>\n",
       "      <td>70</td>\n",
       "      <td>1</td>\n",
       "      <td>ford galaxie 500</td>\n",
       "    </tr>\n",
       "    <tr>\n",
       "      <th>...</th>\n",
       "      <td>...</td>\n",
       "      <td>...</td>\n",
       "      <td>...</td>\n",
       "      <td>...</td>\n",
       "      <td>...</td>\n",
       "      <td>...</td>\n",
       "      <td>...</td>\n",
       "      <td>...</td>\n",
       "      <td>...</td>\n",
       "    </tr>\n",
       "    <tr>\n",
       "      <th>392</th>\n",
       "      <td>27.0</td>\n",
       "      <td>4</td>\n",
       "      <td>140.0</td>\n",
       "      <td>86.00</td>\n",
       "      <td>2790.0</td>\n",
       "      <td>15.6</td>\n",
       "      <td>82</td>\n",
       "      <td>1</td>\n",
       "      <td>ford mustang gl</td>\n",
       "    </tr>\n",
       "    <tr>\n",
       "      <th>393</th>\n",
       "      <td>44.0</td>\n",
       "      <td>4</td>\n",
       "      <td>97.0</td>\n",
       "      <td>52.00</td>\n",
       "      <td>2130.0</td>\n",
       "      <td>24.6</td>\n",
       "      <td>82</td>\n",
       "      <td>2</td>\n",
       "      <td>vw pickup</td>\n",
       "    </tr>\n",
       "    <tr>\n",
       "      <th>394</th>\n",
       "      <td>32.0</td>\n",
       "      <td>4</td>\n",
       "      <td>135.0</td>\n",
       "      <td>84.00</td>\n",
       "      <td>2295.0</td>\n",
       "      <td>11.6</td>\n",
       "      <td>82</td>\n",
       "      <td>1</td>\n",
       "      <td>dodge rampage</td>\n",
       "    </tr>\n",
       "    <tr>\n",
       "      <th>395</th>\n",
       "      <td>28.0</td>\n",
       "      <td>4</td>\n",
       "      <td>120.0</td>\n",
       "      <td>79.00</td>\n",
       "      <td>2625.0</td>\n",
       "      <td>18.6</td>\n",
       "      <td>82</td>\n",
       "      <td>1</td>\n",
       "      <td>ford ranger</td>\n",
       "    </tr>\n",
       "    <tr>\n",
       "      <th>396</th>\n",
       "      <td>31.0</td>\n",
       "      <td>4</td>\n",
       "      <td>119.0</td>\n",
       "      <td>82.00</td>\n",
       "      <td>2720.0</td>\n",
       "      <td>19.4</td>\n",
       "      <td>82</td>\n",
       "      <td>1</td>\n",
       "      <td>chevy s-10</td>\n",
       "    </tr>\n",
       "  </tbody>\n",
       "</table>\n",
       "<p>397 rows × 9 columns</p>\n",
       "</div>"
      ],
      "text/plain": [
       "      mpg  cylinders  displacement horsepower  weight  acceleration  \\\n",
       "0    15.0          8         350.0      165.0  3693.0          11.5   \n",
       "1    18.0          8         318.0      150.0  3436.0          11.0   \n",
       "2    16.0          8         304.0      150.0  3433.0          12.0   \n",
       "3    17.0          8         302.0      140.0  3449.0          10.5   \n",
       "4    15.0          8         429.0      198.0  4341.0          10.0   \n",
       "..    ...        ...           ...        ...     ...           ...   \n",
       "392  27.0          4         140.0      86.00  2790.0          15.6   \n",
       "393  44.0          4          97.0      52.00  2130.0          24.6   \n",
       "394  32.0          4         135.0      84.00  2295.0          11.6   \n",
       "395  28.0          4         120.0      79.00  2625.0          18.6   \n",
       "396  31.0          4         119.0      82.00  2720.0          19.4   \n",
       "\n",
       "     model year  origin            car name  \n",
       "0            70       1   buick skylark 320  \n",
       "1            70       1  plymouth satellite  \n",
       "2            70       1       amc rebel sst  \n",
       "3            70       1         ford torino  \n",
       "4            70       1    ford galaxie 500  \n",
       "..          ...     ...                 ...  \n",
       "392          82       1     ford mustang gl  \n",
       "393          82       2           vw pickup  \n",
       "394          82       1       dodge rampage  \n",
       "395          82       1         ford ranger  \n",
       "396          82       1          chevy s-10  \n",
       "\n",
       "[397 rows x 9 columns]"
      ]
     },
     "execution_count": 2,
     "metadata": {},
     "output_type": "execute_result"
    }
   ],
   "source": [
    "mpgnames=['mpg','cylinders','displacement','horsepower','weight','acceleration','model year','origin','car name']\n",
    "mpgData=pd.read_csv('auto-mpg.data',header=0,names=mpgnames)\n",
    "mpgData\n"
   ]
  },
  {
   "cell_type": "code",
   "execution_count": 3,
   "metadata": {},
   "outputs": [
    {
     "data": {
      "text/plain": [
       "mpg             float64\n",
       "cylinders         int64\n",
       "displacement    float64\n",
       "horsepower       object\n",
       "weight          float64\n",
       "acceleration    float64\n",
       "model year        int64\n",
       "origin            int64\n",
       "car name         object\n",
       "dtype: object"
      ]
     },
     "execution_count": 3,
     "metadata": {},
     "output_type": "execute_result"
    }
   ],
   "source": [
    "mpgData.dtypes"
   ]
  },
  {
   "cell_type": "code",
   "execution_count": 4,
   "metadata": {},
   "outputs": [],
   "source": [
    "mpgData=mpgData.replace('?', np.NaN)"
   ]
  },
  {
   "cell_type": "code",
   "execution_count": 5,
   "metadata": {},
   "outputs": [
    {
     "data": {
      "text/plain": [
       "mpg             0\n",
       "cylinders       0\n",
       "displacement    0\n",
       "horsepower      6\n",
       "weight          0\n",
       "acceleration    0\n",
       "model year      0\n",
       "origin          0\n",
       "car name        0\n",
       "dtype: int64"
      ]
     },
     "execution_count": 5,
     "metadata": {},
     "output_type": "execute_result"
    }
   ],
   "source": [
    "mpgData.isnull().sum()"
   ]
  },
  {
   "cell_type": "code",
   "execution_count": 6,
   "metadata": {},
   "outputs": [],
   "source": [
    "mpgData['horsepower']= mpgData['horsepower'].fillna(mpgData['horsepower'].astype(float).mean())"
   ]
  },
  {
   "cell_type": "code",
   "execution_count": 7,
   "metadata": {},
   "outputs": [
    {
     "data": {
      "text/plain": [
       "array(['buick skylark 320', 'plymouth satellite', 'amc rebel sst',\n",
       "       'ford torino', 'ford galaxie 500', 'chevrolet impala',\n",
       "       'plymouth fury iii', 'pontiac catalina', 'amc ambassador dpl',\n",
       "       'dodge challenger se', \"plymouth 'cuda 340\",\n",
       "       'chevrolet monte carlo', 'buick estate wagon (sw)',\n",
       "       'toyota corona mark ii', 'plymouth duster', 'amc hornet',\n",
       "       'ford maverick', 'datsun pl510', 'volkswagen 1131 deluxe sedan',\n",
       "       'peugeot 504', 'audi 100 ls', 'saab 99e', 'bmw 2002',\n",
       "       'amc gremlin', 'ford f250', 'chevy c20', 'dodge d200', 'hi 1200d',\n",
       "       'chevrolet vega 2300', 'toyota corona', 'ford pinto',\n",
       "       'plymouth satellite custom', 'chevrolet chevelle malibu',\n",
       "       'ford torino 500', 'amc matador', 'pontiac catalina brougham',\n",
       "       'dodge monaco (sw)', 'ford country squire (sw)',\n",
       "       'pontiac safari (sw)', 'amc hornet sportabout (sw)',\n",
       "       'chevrolet vega (sw)', 'pontiac firebird', 'ford mustang',\n",
       "       'mercury capri 2000', 'opel 1900', 'peugeot 304', 'fiat 124b',\n",
       "       'toyota corolla 1200', 'datsun 1200', 'volkswagen model 111',\n",
       "       'plymouth cricket', 'toyota corona hardtop', 'dodge colt hardtop',\n",
       "       'volkswagen type 3', 'chevrolet vega', 'ford pinto runabout',\n",
       "       'amc ambassador sst', 'mercury marquis', 'buick lesabre custom',\n",
       "       'oldsmobile delta 88 royale', 'chrysler newport royal',\n",
       "       'mazda rx2 coupe', 'amc matador (sw)',\n",
       "       'chevrolet chevelle concours (sw)', 'ford gran torino (sw)',\n",
       "       'plymouth satellite custom (sw)', 'volvo 145e (sw)',\n",
       "       'volkswagen 411 (sw)', 'peugeot 504 (sw)', 'renault 12 (sw)',\n",
       "       'ford pinto (sw)', 'datsun 510 (sw)',\n",
       "       'toyouta corona mark ii (sw)', 'dodge colt (sw)',\n",
       "       'toyota corolla 1600 (sw)', 'buick century 350',\n",
       "       'chevrolet malibu', 'ford gran torino', 'dodge coronet custom',\n",
       "       'mercury marquis brougham', 'chevrolet caprice classic',\n",
       "       'ford ltd', 'plymouth fury gran sedan',\n",
       "       'chrysler new yorker brougham', 'buick electra 225 custom',\n",
       "       'amc ambassador brougham', 'plymouth valiant',\n",
       "       'chevrolet nova custom', 'volkswagen super beetle', 'ford country',\n",
       "       'plymouth custom suburb', 'oldsmobile vista cruiser',\n",
       "       'toyota carina', 'datsun 610', 'maxda rx3', 'mercury capri v6',\n",
       "       'fiat 124 sport coupe', 'chevrolet monte carlo s',\n",
       "       'pontiac grand prix', 'fiat 128', 'opel manta', 'audi 100ls',\n",
       "       'volvo 144ea', 'dodge dart custom', 'saab 99le', 'toyota mark ii',\n",
       "       'oldsmobile omega', 'chevrolet nova', 'datsun b210',\n",
       "       'chevrolet chevelle malibu classic', 'plymouth satellite sebring',\n",
       "       'buick century luxus (sw)', 'dodge coronet custom (sw)',\n",
       "       'audi fox', 'volkswagen dasher', 'datsun 710', 'dodge colt',\n",
       "       'fiat 124 tc', 'honda civic', 'subaru', 'fiat x1.9',\n",
       "       'plymouth valiant custom', 'mercury monarch', 'chevrolet bel air',\n",
       "       'plymouth grand fury', 'buick century',\n",
       "       'chevroelt chevelle malibu', 'plymouth fury', 'buick skyhawk',\n",
       "       'chevrolet monza 2+2', 'ford mustang ii', 'toyota corolla',\n",
       "       'pontiac astro', 'volkswagen rabbit', 'amc pacer', 'volvo 244dl',\n",
       "       'honda civic cvcc', 'fiat 131', 'capri ii', 'renault 12tl',\n",
       "       'dodge coronet brougham', 'chevrolet chevette', 'chevrolet woody',\n",
       "       'vw rabbit', 'dodge aspen se', 'ford granada ghia',\n",
       "       'pontiac ventura sj', 'amc pacer d/l', 'datsun b-210', 'volvo 245',\n",
       "       'plymouth volare premier v8', 'mercedes-benz 280s',\n",
       "       'cadillac seville', 'chevy c10', 'ford f108', 'dodge d100',\n",
       "       'honda accord cvcc', 'buick opel isuzu deluxe', 'renault 5 gtl',\n",
       "       'plymouth arrow gs', 'datsun f-10 hatchback',\n",
       "       'oldsmobile cutlass supreme', 'dodge monaco brougham',\n",
       "       'mercury cougar brougham', 'chevrolet concours', 'buick skylark',\n",
       "       'plymouth volare custom', 'ford granada', 'pontiac grand prix lj',\n",
       "       'chevrolet monte carlo landau', 'chrysler cordoba',\n",
       "       'ford thunderbird', 'volkswagen rabbit custom',\n",
       "       'pontiac sunbird coupe', 'toyota corolla liftback',\n",
       "       'ford mustang ii 2+2', 'dodge colt m/m', 'subaru dl', 'datsun 810',\n",
       "       'bmw 320i', 'mazda rx-4', 'volkswagen rabbit custom diesel',\n",
       "       'ford fiesta', 'mazda glc deluxe', 'datsun b210 gx',\n",
       "       'oldsmobile cutlass salon brougham', 'dodge diplomat',\n",
       "       'mercury monarch ghia', 'pontiac phoenix lj',\n",
       "       'ford fairmont (auto)', 'ford fairmont (man)', 'plymouth volare',\n",
       "       'amc concord', 'buick century special', 'mercury zephyr',\n",
       "       'dodge aspen', 'amc concord d/l',\n",
       "       'buick regal sport coupe (turbo)', 'ford futura',\n",
       "       'dodge magnum xe', 'datsun 510', 'dodge omni',\n",
       "       'toyota celica gt liftback', 'plymouth sapporo',\n",
       "       'oldsmobile starfire sx', 'datsun 200-sx', 'audi 5000',\n",
       "       'volvo 264gl', 'saab 99gle', 'peugeot 604sl',\n",
       "       'volkswagen scirocco', 'honda accord lx', 'pontiac lemans v6',\n",
       "       'mercury zephyr 6', 'ford fairmont 4', 'amc concord dl 6',\n",
       "       'dodge aspen 6', 'ford ltd landau', 'mercury grand marquis',\n",
       "       'dodge st. regis', 'chevrolet malibu classic (sw)',\n",
       "       'chrysler lebaron town @ country (sw)', 'vw rabbit custom',\n",
       "       'maxda glc deluxe', 'dodge colt hatchback custom', 'amc spirit dl',\n",
       "       'mercedes benz 300d', 'cadillac eldorado', 'plymouth horizon',\n",
       "       'plymouth horizon tc3', 'datsun 210', 'fiat strada custom',\n",
       "       'buick skylark limited', 'chevrolet citation',\n",
       "       'oldsmobile omega brougham', 'pontiac phoenix',\n",
       "       'toyota corolla tercel', 'datsun 310', 'ford fairmont',\n",
       "       'audi 4000', 'toyota corona liftback', 'mazda 626',\n",
       "       'datsun 510 hatchback', 'mazda glc', 'vw rabbit c (diesel)',\n",
       "       'vw dasher (diesel)', 'audi 5000s (diesel)', 'mercedes-benz 240d',\n",
       "       'honda civic 1500 gl', 'renault lecar deluxe', 'vokswagen rabbit',\n",
       "       'datsun 280-zx', 'mazda rx-7 gs', 'triumph tr7 coupe',\n",
       "       'ford mustang cobra', 'honda accord', 'plymouth reliant',\n",
       "       'dodge aries wagon (sw)', 'toyota starlet', 'plymouth champ',\n",
       "       'honda civic 1300', 'datsun 210 mpg', 'toyota tercel',\n",
       "       'mazda glc 4', 'plymouth horizon 4', 'ford escort 4w',\n",
       "       'ford escort 2h', 'volkswagen jetta', 'renault 18i',\n",
       "       'honda prelude', 'datsun 200sx', 'peugeot 505s turbo diesel',\n",
       "       'volvo diesel', 'toyota cressida', 'datsun 810 maxima',\n",
       "       'oldsmobile cutlass ls', 'ford granada gl',\n",
       "       'chrysler lebaron salon', 'chevrolet cavalier',\n",
       "       'chevrolet cavalier wagon', 'chevrolet cavalier 2-door',\n",
       "       'pontiac j2000 se hatchback', 'dodge aries se',\n",
       "       'ford fairmont futura', 'amc concord dl', 'volkswagen rabbit l',\n",
       "       'mazda glc custom l', 'mazda glc custom', 'plymouth horizon miser',\n",
       "       'mercury lynx l', 'nissan stanza xe', 'honda civic (auto)',\n",
       "       'datsun 310 gx', 'buick century limited',\n",
       "       'oldsmobile cutlass ciera (diesel)', 'chrysler lebaron medallion',\n",
       "       'ford granada l', 'toyota celica gt', 'dodge charger 2.2',\n",
       "       'chevrolet camaro', 'ford mustang gl', 'vw pickup',\n",
       "       'dodge rampage', 'ford ranger', 'chevy s-10'], dtype=object)"
      ]
     },
     "execution_count": 7,
     "metadata": {},
     "output_type": "execute_result"
    }
   ],
   "source": [
    "mpgData['car name'].unique()"
   ]
  },
  {
   "cell_type": "code",
   "execution_count": 8,
   "metadata": {},
   "outputs": [
    {
     "data": {
      "text/plain": [
       "<matplotlib.axes._subplots.AxesSubplot at 0x2b3284ecb48>"
      ]
     },
     "execution_count": 8,
     "metadata": {},
     "output_type": "execute_result"
    },
    {
     "data": {
      "image/png": "[encoded data removed]",
      "text/plain": [
       "<Figure size 432x288 with 1 Axes>"
      ]
     },
     "metadata": {
      "needs_background": "light"
     },
     "output_type": "display_data"
    }
   ],
   "source": [
    "# Total \n",
    "sns.barplot( data=mpgData[['horsepower','mpg','cylinders','displacement']])"
   ]
  },
  {
   "cell_type": "code",
   "execution_count": 9,
   "metadata": {},
   "outputs": [
    {
     "data": {
      "text/plain": [
       "<matplotlib.axes._subplots.AxesSubplot at 0x2b32aca0608>"
      ]
     },
     "execution_count": 9,
     "metadata": {},
     "output_type": "execute_result"
    },
    {
     "data": {
      "image/png": "[encoded data removed]",
      "text/plain": [
       "<Figure size 432x288 with 1 Axes>"
      ]
     },
     "metadata": {
      "needs_background": "light"
     },
     "output_type": "display_data"
    }
   ],
   "source": [
    "# Top 10 Confirmed States\n",
    "mpgData[['horsepower','mpg','cylinders','weight','displacement','car name']].sort_values(by='mpg', ascending=False).head(10).plot.bar(x=\"car name\")\n"
   ]
  },
  {
   "cell_type": "code",
   "execution_count": 10,
   "metadata": {},
   "outputs": [
    {
     "data": {
      "text/plain": [
       "<matplotlib.axes._subplots.AxesSubplot at 0x2b32ad90bc8>"
      ]
     },
     "execution_count": 10,
     "metadata": {},
     "output_type": "execute_result"
    },
    {
     "data": {
      "image/png": "[encoded data removed]",
      "text/plain": [
       "<Figure size 1080x720 with 2 Axes>"
      ]
     },
     "metadata": {
      "needs_background": "light"
     },
     "output_type": "display_data"
    }
   ],
   "source": [
    "# Correlation of EmpData\n",
    "plt.figure(figsize=(15,10))\n",
    "sns.heatmap(data=mpgData.corr(),annot=True,cmap=\"RdYlGn\")"
   ]
  },
  {
   "cell_type": "code",
   "execution_count": 11,
   "metadata": {},
   "outputs": [],
   "source": [
    "from sklearn.preprocessing import LabelEncoder\n",
    "labelencoder = LabelEncoder()\n",
    "mpgData['car name'] = labelencoder.fit_transform(mpgData['car name'])"
   ]
  },
  {
   "cell_type": "code",
   "execution_count": 12,
   "metadata": {},
   "outputs": [
    {
     "data": {
      "text/plain": [
       "(397, 8)"
      ]
     },
     "execution_count": 12,
     "metadata": {},
     "output_type": "execute_result"
    }
   ],
   "source": [
    "x=mpgData.drop(['mpg'],axis=1)\n",
    "x.shape"
   ]
  },
  {
   "cell_type": "code",
   "execution_count": 13,
   "metadata": {},
   "outputs": [],
   "source": [
    "y=mpgData['mpg']\n",
    "y=np.array(y).reshape(-1,1)"
   ]
  },
  {
   "cell_type": "code",
   "execution_count": 14,
   "metadata": {},
   "outputs": [
    {
     "data": {
      "text/plain": [
       "cylinders       0.533598\n",
       "displacement    0.726982\n",
       "horsepower      1.100434\n",
       "weight          0.535347\n",
       "acceleration    0.275880\n",
       "model year      0.010233\n",
       "origin          0.919911\n",
       "car name        0.013775\n",
       "dtype: float64"
      ]
     },
     "execution_count": 14,
     "metadata": {},
     "output_type": "execute_result"
    }
   ],
   "source": [
    "x.skew()"
   ]
  },
  {
   "cell_type": "code",
   "execution_count": 15,
   "metadata": {},
   "outputs": [],
   "source": [
    "# splitting data as X_train and X_test\n",
    "from sklearn.model_selection import train_test_split\n",
    "X_train, X_test, y_train, y_test = train_test_split(x, y, test_size = 0.2,random_state = 42)"
   ]
  },
  {
   "cell_type": "code",
   "execution_count": 16,
   "metadata": {},
   "outputs": [
    {
     "data": {
      "text/plain": [
       "LinearRegression(copy_X=True, fit_intercept=True, n_jobs=None,\n",
       "         normalize=False)"
      ]
     },
     "execution_count": 16,
     "metadata": {},
     "output_type": "execute_result"
    }
   ],
   "source": [
    "#Linear Regression\n",
    "regressor = LinearRegression()  \n",
    "regressor.fit(X_train, y_train)"
   ]
  },
  {
   "cell_type": "code",
   "execution_count": 17,
   "metadata": {},
   "outputs": [],
   "source": [
    "y_pred = regressor.predict(X_test)"
   ]
  },
  {
   "cell_type": "code",
   "execution_count": 18,
   "metadata": {},
   "outputs": [
    {
     "data": {
      "text/plain": [
       "3.0616383708037027"
      ]
     },
     "execution_count": 18,
     "metadata": {},
     "output_type": "execute_result"
    }
   ],
   "source": [
    "# calculating RMSE\n",
    "from sklearn.metrics import mean_squared_error\n",
    "from math import sqrt\n",
    "rmse = sqrt(mean_squared_error(y_test, y_pred))\n",
    "rmse"
   ]
  },
  {
   "cell_type": "code",
   "execution_count": 19,
   "metadata": {},
   "outputs": [
    {
     "data": {
      "text/html": [
       "<div>\n",
       "<style scoped>\n",
       "    .dataframe tbody tr th:only-of-type {\n",
       "        vertical-align: middle;\n",
       "    }\n",
       "\n",
       "    .dataframe tbody tr th {\n",
       "        vertical-align: top;\n",
       "    }\n",
       "\n",
       "    .dataframe thead th {\n",
       "        text-align: right;\n",
       "    }\n",
       "</style>\n",
       "<table border=\"1\" class=\"dataframe\">\n",
       "  <thead>\n",
       "    <tr style=\"text-align: right;\">\n",
       "      <th></th>\n",
       "      <th>Actual</th>\n",
       "      <th>Predicted</th>\n",
       "    </tr>\n",
       "  </thead>\n",
       "  <tbody>\n",
       "    <tr>\n",
       "      <th>0</th>\n",
       "      <td>15.0</td>\n",
       "      <td>13.607431</td>\n",
       "    </tr>\n",
       "    <tr>\n",
       "      <th>1</th>\n",
       "      <td>29.5</td>\n",
       "      <td>31.831820</td>\n",
       "    </tr>\n",
       "    <tr>\n",
       "      <th>2</th>\n",
       "      <td>33.5</td>\n",
       "      <td>28.535575</td>\n",
       "    </tr>\n",
       "    <tr>\n",
       "      <th>3</th>\n",
       "      <td>25.0</td>\n",
       "      <td>24.513251</td>\n",
       "    </tr>\n",
       "    <tr>\n",
       "      <th>4</th>\n",
       "      <td>13.0</td>\n",
       "      <td>12.348100</td>\n",
       "    </tr>\n",
       "    <tr>\n",
       "      <th>...</th>\n",
       "      <td>...</td>\n",
       "      <td>...</td>\n",
       "    </tr>\n",
       "    <tr>\n",
       "      <th>75</th>\n",
       "      <td>28.0</td>\n",
       "      <td>28.889396</td>\n",
       "    </tr>\n",
       "    <tr>\n",
       "      <th>76</th>\n",
       "      <td>23.5</td>\n",
       "      <td>27.031313</td>\n",
       "    </tr>\n",
       "    <tr>\n",
       "      <th>77</th>\n",
       "      <td>16.0</td>\n",
       "      <td>16.147875</td>\n",
       "    </tr>\n",
       "    <tr>\n",
       "      <th>78</th>\n",
       "      <td>17.0</td>\n",
       "      <td>15.295363</td>\n",
       "    </tr>\n",
       "    <tr>\n",
       "      <th>79</th>\n",
       "      <td>26.0</td>\n",
       "      <td>27.658765</td>\n",
       "    </tr>\n",
       "  </tbody>\n",
       "</table>\n",
       "<p>80 rows × 2 columns</p>\n",
       "</div>"
      ],
      "text/plain": [
       "    Actual  Predicted\n",
       "0     15.0  13.607431\n",
       "1     29.5  31.831820\n",
       "2     33.5  28.535575\n",
       "3     25.0  24.513251\n",
       "4     13.0  12.348100\n",
       "..     ...        ...\n",
       "75    28.0  28.889396\n",
       "76    23.5  27.031313\n",
       "77    16.0  16.147875\n",
       "78    17.0  15.295363\n",
       "79    26.0  27.658765\n",
       "\n",
       "[80 rows x 2 columns]"
      ]
     },
     "execution_count": 19,
     "metadata": {},
     "output_type": "execute_result"
    }
   ],
   "source": [
    "df = pd.DataFrame({'Actual': np.array(y_test)[:,0], 'Predicted': y_pred[:,0]})\n",
    "df"
   ]
  },
  {
   "cell_type": "code",
   "execution_count": 21,
   "metadata": {},
   "outputs": [
    {
     "data": {
      "text/plain": [
       "['AutoMpg_regressor_Model.obj']"
      ]
     },
     "execution_count": 21,
     "metadata": {},
     "output_type": "execute_result"
    }
   ],
   "source": [
    "# Saving the Model with MAX Accuracy score value \n",
    "from sklearn.externals import joblib\n",
    "joblib.dump(regressor,'AutoMpg_regressor_Model.obj')\n",
    "\n",
    "\n"
   ]
  },
  {
   "cell_type": "code",
   "execution_count": null,
   "metadata": {},
   "outputs": [],
   "source": [
    "# Conclusion\n",
    "    Preparing the Linear Regression model for  MPG\n",
    "    Null vaules has been replaced \n",
    "    we have been applied Label Encoder for Categorical Data \n",
    "    KNeighborsClassifier,DecisionTreeClassifier,RandomForestClassifier Model has been achived max performance\n"
   ]
  }
 ],
 "metadata": {
  "kernelspec": {
   "display_name": "Python 3",
   "language": "python",
   "name": "python3"
  },
  "language_info": {
   "codemirror_mode": {
    "name": "ipython",
    "version": 3
   },
   "file_extension": ".py",
   "mimetype": "text/x-python",
   "name": "python",
   "nbconvert_exporter": "python",
   "pygments_lexer": "ipython3",
   "version": "3.7.5"
  }
 },
 "nbformat": 4,
 "nbformat_minor": 4
}
